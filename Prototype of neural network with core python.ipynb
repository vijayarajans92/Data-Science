{
 "cells": [
  {
   "cell_type": "markdown",
   "metadata": {},
   "source": [
    "# Simple Neural Network with weight update using core python."
   ]
  },
  {
   "cell_type": "code",
   "execution_count": 2,
   "metadata": {},
   "outputs": [],
   "source": [
    "import numpy as np\n",
    "import pandas as pd\n",
    "import matplotlib.pyplot as plt\n",
    "import seaborn as sns"
   ]
  },
  {
   "cell_type": "markdown",
   "metadata": {},
   "source": [
    "Here we are declaring the dataframe which defines the operations of OR function, where 1 is returned for either x1 or x2 being true or both being true, but 0 when both are FALSE. "
   ]
  },
  {
   "cell_type": "code",
   "execution_count": 96,
   "metadata": {},
   "outputs": [
    {
     "data": {
      "text/html": [
       "<div>\n",
       "<style scoped>\n",
       "    .dataframe tbody tr th:only-of-type {\n",
       "        vertical-align: middle;\n",
       "    }\n",
       "\n",
       "    .dataframe tbody tr th {\n",
       "        vertical-align: top;\n",
       "    }\n",
       "\n",
       "    .dataframe thead th {\n",
       "        text-align: right;\n",
       "    }\n",
       "</style>\n",
       "<table border=\"1\" class=\"dataframe\">\n",
       "  <thead>\n",
       "    <tr style=\"text-align: right;\">\n",
       "      <th></th>\n",
       "      <th>x1</th>\n",
       "      <th>x2</th>\n",
       "      <th>y</th>\n",
       "    </tr>\n",
       "  </thead>\n",
       "  <tbody>\n",
       "    <tr>\n",
       "      <th>0</th>\n",
       "      <td>0</td>\n",
       "      <td>0</td>\n",
       "      <td>0</td>\n",
       "    </tr>\n",
       "    <tr>\n",
       "      <th>1</th>\n",
       "      <td>0</td>\n",
       "      <td>1</td>\n",
       "      <td>1</td>\n",
       "    </tr>\n",
       "    <tr>\n",
       "      <th>2</th>\n",
       "      <td>1</td>\n",
       "      <td>0</td>\n",
       "      <td>1</td>\n",
       "    </tr>\n",
       "    <tr>\n",
       "      <th>3</th>\n",
       "      <td>1</td>\n",
       "      <td>1</td>\n",
       "      <td>1</td>\n",
       "    </tr>\n",
       "  </tbody>\n",
       "</table>\n",
       "</div>"
      ],
      "text/plain": [
       "   x1  x2  y\n",
       "0   0   0  0\n",
       "1   0   1  1\n",
       "2   1   0  1\n",
       "3   1   1  1"
      ]
     },
     "execution_count": 96,
     "metadata": {},
     "output_type": "execute_result"
    }
   ],
   "source": [
    "OR = pd.DataFrame({'x1': (0,0,1,1), 'x2': (0,1,0,1), 'y': (0,1,1,1)})\n",
    "OR"
   ]
  },
  {
   "cell_type": "markdown",
   "metadata": {},
   "source": [
    "Below scatter plot shows how the OR function operates. Output(y) is 1 when either x1 or x2 is 1 or both as 1 and 0 otherwise."
   ]
  },
  {
   "cell_type": "code",
   "execution_count": 98,
   "metadata": {},
   "outputs": [
    {
     "data": {
      "text/plain": [
       "Text(0.5, 1.0, 'Scatter plot - OR function')"
      ]
     },
     "execution_count": 98,
     "metadata": {},
     "output_type": "execute_result"
    },
    {
     "data": {
      "image/png": "[encoded data removed]",
      "text/plain": [
       "<Figure size 432x288 with 1 Axes>"
      ]
     },
     "metadata": {
      "needs_background": "light"
     },
     "output_type": "display_data"
    }
   ],
   "source": [
    "sns.scatterplot(x='x1',y='x2',hue='y',data=OR)\n",
    "plt.title(\"Scatter plot - OR function\")"
   ]
  },
  {
   "cell_type": "markdown",
   "metadata": {},
   "source": [
    "Let's split the dataframe into inputs and target."
   ]
  },
  {
   "cell_type": "code",
   "execution_count": 148,
   "metadata": {},
   "outputs": [],
   "source": [
    "inputs = OR.iloc[:,:2]\n",
    "target = OR.iloc[:,2]"
   ]
  },
  {
   "cell_type": "markdown",
   "metadata": {},
   "source": [
    "A simple activation function is defined as below where 1 is returned if matrix multiplication of inputs and weight is greater than 0 and returns 0 when otherwise."
   ]
  },
  {
   "cell_type": "code",
   "execution_count": 150,
   "metadata": {},
   "outputs": [],
   "source": [
    "act_func = lambda inputs,weight: np.where(np.dot(inputs,weight)>0,1,0)"
   ]
  },
  {
   "cell_type": "markdown",
   "metadata": {},
   "source": [
    "We have created a training function that iterates the learning algorithm, returning the adapted weights. We are passing inputs, output, weight, learning rate(eta) and no of iterations(n_iterations). \n",
    "\n",
    "**Step 1** - We are concatenating the bias. Here we are using -np.ones((len(inputs),1)) to define bias which returns array of 1 with the specified size. \n",
    "\n",
    "**Step 2** - We are iterating through the 'for' loop. Within the loop, we are calling the activation function (act_func) which returns array of 1 or 0. Then weight is re-calculated based on the difference between activation function and actual output. We use learning rate(eta) and -=(subtraction assignment operator) to subtract **old weight and eta*np.dot(np.transpose(inputs),(activation-output))** to calculate new weight. \n",
    "\n",
    "**Step 3** - Weights at the last iteration is returned."
   ]
  },
  {
   "cell_type": "code",
   "execution_count": 207,
   "metadata": {},
   "outputs": [],
   "source": [
    "def neural_network(inputs,output,weight,eta,n_iterations):\n",
    "    \n",
    "    #adding bias\n",
    "    inputs = np.c_[inputs,-np.ones((len(inputs),1))]\n",
    "    \n",
    "    for i in range(n_iterations):\n",
    "        activation = act_func(inputs,weight)\n",
    "        weight -= eta*np.dot(np.transpose(inputs),activation-output)\n",
    "        print(\"Iteration - {} | Weight - {} | Prediction - {}\".format(i,weight,activation))\n",
    "        \n",
    "    return (weight) \n"
   ]
  },
  {
   "cell_type": "markdown",
   "metadata": {},
   "source": [
    "Random weight is defined as below."
   ]
  },
  {
   "cell_type": "code",
   "execution_count": 204,
   "metadata": {},
   "outputs": [
    {
     "data": {
      "text/plain": [
       "array([-1.06999634e-05, -1.19275745e-04,  7.07145389e-05])"
      ]
     },
     "execution_count": 204,
     "metadata": {},
     "output_type": "execute_result"
    }
   ],
   "source": [
    "weight = np.random.randn(3)*1e-4\n",
    "weight"
   ]
  },
  {
   "cell_type": "markdown",
   "metadata": {},
   "source": [
    "Let's call the function by providing the inputs, target, weight, learning rate(eta) and no of iteration(n_iteration) as parameters.\n",
    "\n",
    "Check out the result. The loop has run for 10 iterations as provided by in the parameter but the **prediction** converged with **target** in **iteration 4** and after that, the weight has remained constant"
   ]
  },
  {
   "cell_type": "code",
   "execution_count": 205,
   "metadata": {},
   "outputs": [
    {
     "name": "stdout",
     "output_type": "stream",
     "text": [
      "Iteration - 0 | Weight - [ 0.5999893   0.59988072 -0.89992929] | Prediction - [0 0 0 0]\n",
      "Iteration - 1 | Weight - [ 0.5999893   0.59988072 -0.59992929] | Prediction - [1 1 1 1]\n",
      "Iteration - 2 | Weight - [ 0.5999893   0.59988072 -0.29992929] | Prediction - [1 1 1 1]\n",
      "Iteration - 3 | Weight - [5.99989300e-01 5.99880724e-01 7.07145389e-05] | Prediction - [1 1 1 1]\n",
      "Iteration - 4 | Weight - [5.99989300e-01 5.99880724e-01 7.07145389e-05] | Prediction - [0 1 1 1]\n",
      "Iteration - 5 | Weight - [5.99989300e-01 5.99880724e-01 7.07145389e-05] | Prediction - [0 1 1 1]\n",
      "Iteration - 6 | Weight - [5.99989300e-01 5.99880724e-01 7.07145389e-05] | Prediction - [0 1 1 1]\n",
      "Iteration - 7 | Weight - [5.99989300e-01 5.99880724e-01 7.07145389e-05] | Prediction - [0 1 1 1]\n",
      "Iteration - 8 | Weight - [5.99989300e-01 5.99880724e-01 7.07145389e-05] | Prediction - [0 1 1 1]\n",
      "Iteration - 9 | Weight - [5.99989300e-01 5.99880724e-01 7.07145389e-05] | Prediction - [0 1 1 1]\n"
     ]
    }
   ],
   "source": [
    "eta = 0.3\n",
    "n_iterations=10\n",
    "\n",
    "weight= neural_network(inputs, target, weight, eta, n_iterations)"
   ]
  },
  {
   "cell_type": "markdown",
   "metadata": {},
   "source": [
    "# Performance of the network based on learning rate"
   ]
  },
  {
   "cell_type": "markdown",
   "metadata": {},
   "source": [
    "Let's now play with the learning rate to understand how it impacts the number of iteration and time taken to arrive at the correct prediction. For this, we will modify the function a bit to track the time taken to complete and break out of the loop when the prediction has matched the target."
   ]
  },
  {
   "cell_type": "markdown",
   "metadata": {},
   "source": [
    "In the below function, we have added an 'if' clause to check if the activation and actual output have any difference. If not, it would break the for loop. \n",
    "\n",
    "Here we are importing default_timer from timeit to track how much time is elapsed in the process. "
   ]
  },
  {
   "cell_type": "code",
   "execution_count": 216,
   "metadata": {},
   "outputs": [],
   "source": [
    "from timeit import default_timer as timer \n",
    "\n",
    "def neural_network_performance(inputs,output,weight,eta,n_iterations):\n",
    "    start = timer()\n",
    "    #adding bias\n",
    "    inputs = np.c_[inputs,-np.ones((len(inputs),1))]\n",
    "    \n",
    "    for i in range(n_iterations):\n",
    "        activation = act_func(inputs,weight)\n",
    "        weight -= eta*np.dot(np.transpose(inputs),activation-output)\n",
    "        print(\"Iteration - {} | Weight - {} | Prediction - {}\".format(i,weight,activation))\n",
    "        ch = eta*np.dot(np.transpose(inputs),activation-output)\n",
    "        if(np.any(ch)==False):\n",
    "            break\n",
    "    end = timer()\n",
    "    print(\"Time elapsed : \",end-start,\" seconds\")\n",
    "    return (weight) \n"
   ]
  },
  {
   "cell_type": "code",
   "execution_count": 261,
   "metadata": {},
   "outputs": [
    {
     "data": {
      "text/plain": [
       "array([ 1.04445773e-04, -2.42998759e-05,  1.42022470e-04])"
      ]
     },
     "execution_count": 261,
     "metadata": {},
     "output_type": "execute_result"
    }
   ],
   "source": [
    "weight = np.random.randn(3)*1e-4\n",
    "weight"
   ]
  },
  {
   "cell_type": "markdown",
   "metadata": {},
   "source": [
    "Let's try having learning rate as 0.3 and check the performance. The prediction values converge with the actual target in Iteration - 2. The time elapsed is 0.0066 seconds."
   ]
  },
  {
   "cell_type": "code",
   "execution_count": 218,
   "metadata": {
    "scrolled": true
   },
   "outputs": [
    {
     "name": "stdout",
     "output_type": "stream",
     "text": [
      "Iteration - 0 | Weight - [ 1.29255964e-04  2.99952669e-01 -2.99981845e-01] | Prediction - [0 0 1 1]\n",
      "Iteration - 1 | Weight - [1.29255964e-04 2.99952669e-01 1.81550365e-05] | Prediction - [1 1 1 1]\n",
      "Iteration - 2 | Weight - [1.29255964e-04 2.99952669e-01 1.81550365e-05] | Prediction - [0 1 1 1]\n",
      "Time elapsed :  0.0066426999983377755  seconds\n"
     ]
    }
   ],
   "source": [
    "eta = 0.3\n",
    "n_iterations=10\n",
    "\n",
    "weight= neural_network_performance(inputs, target, weight, eta, n_iterations)"
   ]
  },
  {
   "cell_type": "markdown",
   "metadata": {},
   "source": [
    "Let's try having learning rate as 10 and check the performance. The prediction values converge with the actual target in Iteration - 5. The time elapsed is 0.0118 seconds."
   ]
  },
  {
   "cell_type": "code",
   "execution_count": 262,
   "metadata": {},
   "outputs": [
    {
     "name": "stdout",
     "output_type": "stream",
     "text": [
      "Iteration - 0 | Weight - [ 20.00010445  19.9999757  -29.99985798] | Prediction - [0 0 0 0]\n",
      "Iteration - 1 | Weight - [ 20.00010445  19.9999757  -19.99985798] | Prediction - [1 1 1 1]\n",
      "Iteration - 2 | Weight - [20.00010445 19.9999757  -9.99985798] | Prediction - [1 1 1 1]\n",
      "Iteration - 3 | Weight - [2.00001044e+01 1.99999757e+01 1.42022470e-04] | Prediction - [1 1 1 1]\n",
      "Iteration - 4 | Weight - [2.00001044e+01 1.99999757e+01 1.42022470e-04] | Prediction - [0 1 1 1]\n",
      "Time elapsed :  0.011881200000061654  seconds\n"
     ]
    }
   ],
   "source": [
    "eta = 10\n",
    "n_iterations=500\n",
    "\n",
    "weight= neural_network_performance(inputs, target, weight, eta, n_iterations)"
   ]
  },
  {
   "cell_type": "markdown",
   "metadata": {},
   "source": [
    "Now let's try having learning rate as 0.0000001 and check the performance. The prediction values converge with the actual target in **Iteration - 397**. The time elapsed is **0.5972 seconds**."
   ]
  },
  {
   "cell_type": "code",
   "execution_count": 236,
   "metadata": {},
   "outputs": [
    {
     "name": "stdout",
     "output_type": "stream",
     "text": [
      "Iteration - 0 | Weight - [2.08786600e-04 4.23400728e-05 1.21461164e-04] | Prediction - [0 0 1 1]\n",
      "Iteration - 1 | Weight - [2.08786600e-04 4.24400728e-05 1.21361164e-04] | Prediction - [0 0 1 1]\n",
      "Iteration - 2 | Weight - [2.08786600e-04 4.25400728e-05 1.21261164e-04] | Prediction - [0 0 1 1]\n",
      "Iteration - 3 | Weight - [2.08786600e-04 4.26400728e-05 1.21161164e-04] | Prediction - [0 0 1 1]\n",
      "Iteration - 4 | Weight - [2.08786600e-04 4.27400728e-05 1.21061164e-04] | Prediction - [0 0 1 1]\n",
      "Iteration - 5 | Weight - [2.08786600e-04 4.28400728e-05 1.20961164e-04] | Prediction - [0 0 1 1]\n",
      "Iteration - 6 | Weight - [2.08786600e-04 4.29400728e-05 1.20861164e-04] | Prediction - [0 0 1 1]\n",
      "Iteration - 7 | Weight - [2.08786600e-04 4.30400728e-05 1.20761164e-04] | Prediction - [0 0 1 1]\n",
      "Iteration - 8 | Weight - [2.08786600e-04 4.31400728e-05 1.20661164e-04] | Prediction - [0 0 1 1]\n",
      "Iteration - 9 | Weight - [2.08786600e-04 4.32400728e-05 1.20561164e-04] | Prediction - [0 0 1 1]\n",
      "Iteration - 10 | Weight - [2.08786600e-04 4.33400728e-05 1.20461164e-04] | Prediction - [0 0 1 1]\n",
      "Iteration - 11 | Weight - [2.08786600e-04 4.34400728e-05 1.20361164e-04] | Prediction - [0 0 1 1]\n",
      "Iteration - 12 | Weight - [2.08786600e-04 4.35400728e-05 1.20261164e-04] | Prediction - [0 0 1 1]\n",
      "Iteration - 13 | Weight - [2.08786600e-04 4.36400728e-05 1.20161164e-04] | Prediction - [0 0 1 1]\n",
      "Iteration - 14 | Weight - [2.08786600e-04 4.37400728e-05 1.20061164e-04] | Prediction - [0 0 1 1]\n",
      "Iteration - 15 | Weight - [2.08786600e-04 4.38400728e-05 1.19961164e-04] | Prediction - [0 0 1 1]\n",
      "Iteration - 16 | Weight - [2.08786600e-04 4.39400728e-05 1.19861164e-04] | Prediction - [0 0 1 1]\n",
      "Iteration - 17 | Weight - [2.08786600e-04 4.40400728e-05 1.19761164e-04] | Prediction - [0 0 1 1]\n",
      "Iteration - 18 | Weight - [2.08786600e-04 4.41400728e-05 1.19661164e-04] | Prediction - [0 0 1 1]\n",
      "Iteration - 19 | Weight - [2.08786600e-04 4.42400728e-05 1.19561164e-04] | Prediction - [0 0 1 1]\n",
      "Iteration - 20 | Weight - [2.08786600e-04 4.43400728e-05 1.19461164e-04] | Prediction - [0 0 1 1]\n",
      "Iteration - 21 | Weight - [2.08786600e-04 4.44400728e-05 1.19361164e-04] | Prediction - [0 0 1 1]\n",
      "Iteration - 22 | Weight - [2.08786600e-04 4.45400728e-05 1.19261164e-04] | Prediction - [0 0 1 1]\n",
      "Iteration - 23 | Weight - [2.08786600e-04 4.46400728e-05 1.19161164e-04] | Prediction - [0 0 1 1]\n",
      "Iteration - 24 | Weight - [2.08786600e-04 4.47400728e-05 1.19061164e-04] | Prediction - [0 0 1 1]\n",
      "Iteration - 25 | Weight - [2.08786600e-04 4.48400728e-05 1.18961164e-04] | Prediction - [0 0 1 1]\n",
      "Iteration - 26 | Weight - [2.08786600e-04 4.49400728e-05 1.18861164e-04] | Prediction - [0 0 1 1]\n",
      "Iteration - 27 | Weight - [2.08786600e-04 4.50400728e-05 1.18761164e-04] | Prediction - [0 0 1 1]\n",
      "Iteration - 28 | Weight - [2.08786600e-04 4.51400728e-05 1.18661164e-04] | Prediction - [0 0 1 1]\n",
      "Iteration - 29 | Weight - [2.08786600e-04 4.52400728e-05 1.18561164e-04] | Prediction - [0 0 1 1]\n",
      "Iteration - 30 | Weight - [2.08786600e-04 4.53400728e-05 1.18461164e-04] | Prediction - [0 0 1 1]\n",
      "Iteration - 31 | Weight - [2.08786600e-04 4.54400728e-05 1.18361164e-04] | Prediction - [0 0 1 1]\n",
      "Iteration - 32 | Weight - [2.08786600e-04 4.55400728e-05 1.18261164e-04] | Prediction - [0 0 1 1]\n",
      "Iteration - 33 | Weight - [2.08786600e-04 4.56400728e-05 1.18161164e-04] | Prediction - [0 0 1 1]\n",
      "Iteration - 34 | Weight - [2.08786600e-04 4.57400728e-05 1.18061164e-04] | Prediction - [0 0 1 1]\n",
      "Iteration - 35 | Weight - [2.08786600e-04 4.58400728e-05 1.17961164e-04] | Prediction - [0 0 1 1]\n",
      "Iteration - 36 | Weight - [2.08786600e-04 4.59400728e-05 1.17861164e-04] | Prediction - [0 0 1 1]\n",
      "Iteration - 37 | Weight - [2.08786600e-04 4.60400728e-05 1.17761164e-04] | Prediction - [0 0 1 1]\n",
      "Iteration - 38 | Weight - [2.08786600e-04 4.61400728e-05 1.17661164e-04] | Prediction - [0 0 1 1]\n",
      "Iteration - 39 | Weight - [2.08786600e-04 4.62400728e-05 1.17561164e-04] | Prediction - [0 0 1 1]\n",
      "Iteration - 40 | Weight - [2.08786600e-04 4.63400728e-05 1.17461164e-04] | Prediction - [0 0 1 1]\n",
      "Iteration - 41 | Weight - [2.08786600e-04 4.64400728e-05 1.17361164e-04] | Prediction - [0 0 1 1]\n",
      "Iteration - 42 | Weight - [2.08786600e-04 4.65400728e-05 1.17261164e-04] | Prediction - [0 0 1 1]\n",
      "Iteration - 43 | Weight - [2.08786600e-04 4.66400728e-05 1.17161164e-04] | Prediction - [0 0 1 1]\n",
      "Iteration - 44 | Weight - [2.08786600e-04 4.67400728e-05 1.17061164e-04] | Prediction - [0 0 1 1]\n",
      "Iteration - 45 | Weight - [2.08786600e-04 4.68400728e-05 1.16961164e-04] | Prediction - [0 0 1 1]\n",
      "Iteration - 46 | Weight - [2.08786600e-04 4.69400728e-05 1.16861164e-04] | Prediction - [0 0 1 1]\n",
      "Iteration - 47 | Weight - [2.08786600e-04 4.70400728e-05 1.16761164e-04] | Prediction - [0 0 1 1]\n",
      "Iteration - 48 | Weight - [2.08786600e-04 4.71400728e-05 1.16661164e-04] | Prediction - [0 0 1 1]\n",
      "Iteration - 49 | Weight - [2.08786600e-04 4.72400728e-05 1.16561164e-04] | Prediction - [0 0 1 1]\n",
      "Iteration - 50 | Weight - [2.08786600e-04 4.73400728e-05 1.16461164e-04] | Prediction - [0 0 1 1]\n",
      "Iteration - 51 | Weight - [2.08786600e-04 4.74400728e-05 1.16361164e-04] | Prediction - [0 0 1 1]\n",
      "Iteration - 52 | Weight - [2.08786600e-04 4.75400728e-05 1.16261164e-04] | Prediction - [0 0 1 1]\n",
      "Iteration - 53 | Weight - [2.08786600e-04 4.76400728e-05 1.16161164e-04] | Prediction - [0 0 1 1]\n",
      "Iteration - 54 | Weight - [2.08786600e-04 4.77400728e-05 1.16061164e-04] | Prediction - [0 0 1 1]\n",
      "Iteration - 55 | Weight - [2.08786600e-04 4.78400728e-05 1.15961164e-04] | Prediction - [0 0 1 1]\n",
      "Iteration - 56 | Weight - [2.08786600e-04 4.79400728e-05 1.15861164e-04] | Prediction - [0 0 1 1]\n",
      "Iteration - 57 | Weight - [2.08786600e-04 4.80400728e-05 1.15761164e-04] | Prediction - [0 0 1 1]\n",
      "Iteration - 58 | Weight - [2.08786600e-04 4.81400728e-05 1.15661164e-04] | Prediction - [0 0 1 1]\n",
      "Iteration - 59 | Weight - [2.08786600e-04 4.82400728e-05 1.15561164e-04] | Prediction - [0 0 1 1]\n",
      "Iteration - 60 | Weight - [2.08786600e-04 4.83400728e-05 1.15461164e-04] | Prediction - [0 0 1 1]\n",
      "Iteration - 61 | Weight - [2.08786600e-04 4.84400728e-05 1.15361164e-04] | Prediction - [0 0 1 1]\n",
      "Iteration - 62 | Weight - [2.08786600e-04 4.85400728e-05 1.15261164e-04] | Prediction - [0 0 1 1]\n",
      "Iteration - 63 | Weight - [2.08786600e-04 4.86400728e-05 1.15161164e-04] | Prediction - [0 0 1 1]\n",
      "Iteration - 64 | Weight - [2.08786600e-04 4.87400728e-05 1.15061164e-04] | Prediction - [0 0 1 1]\n",
      "Iteration - 65 | Weight - [2.08786600e-04 4.88400728e-05 1.14961164e-04] | Prediction - [0 0 1 1]\n",
      "Iteration - 66 | Weight - [2.08786600e-04 4.89400728e-05 1.14861164e-04] | Prediction - [0 0 1 1]\n",
      "Iteration - 67 | Weight - [2.08786600e-04 4.90400728e-05 1.14761164e-04] | Prediction - [0 0 1 1]\n",
      "Iteration - 68 | Weight - [2.08786600e-04 4.91400728e-05 1.14661164e-04] | Prediction - [0 0 1 1]\n",
      "Iteration - 69 | Weight - [2.08786600e-04 4.92400728e-05 1.14561164e-04] | Prediction - [0 0 1 1]\n",
      "Iteration - 70 | Weight - [2.08786600e-04 4.93400728e-05 1.14461164e-04] | Prediction - [0 0 1 1]\n",
      "Iteration - 71 | Weight - [2.08786600e-04 4.94400728e-05 1.14361164e-04] | Prediction - [0 0 1 1]\n",
      "Iteration - 72 | Weight - [2.08786600e-04 4.95400728e-05 1.14261164e-04] | Prediction - [0 0 1 1]\n",
      "Iteration - 73 | Weight - [2.08786600e-04 4.96400728e-05 1.14161164e-04] | Prediction - [0 0 1 1]\n",
      "Iteration - 74 | Weight - [2.08786600e-04 4.97400728e-05 1.14061164e-04] | Prediction - [0 0 1 1]\n",
      "Iteration - 75 | Weight - [2.08786600e-04 4.98400728e-05 1.13961164e-04] | Prediction - [0 0 1 1]\n",
      "Iteration - 76 | Weight - [2.08786600e-04 4.99400728e-05 1.13861164e-04] | Prediction - [0 0 1 1]\n",
      "Iteration - 77 | Weight - [2.08786600e-04 5.00400728e-05 1.13761164e-04] | Prediction - [0 0 1 1]\n",
      "Iteration - 78 | Weight - [2.08786600e-04 5.01400728e-05 1.13661164e-04] | Prediction - [0 0 1 1]\n",
      "Iteration - 79 | Weight - [2.08786600e-04 5.02400728e-05 1.13561164e-04] | Prediction - [0 0 1 1]\n",
      "Iteration - 80 | Weight - [2.08786600e-04 5.03400728e-05 1.13461164e-04] | Prediction - [0 0 1 1]\n",
      "Iteration - 81 | Weight - [2.08786600e-04 5.04400728e-05 1.13361164e-04] | Prediction - [0 0 1 1]\n",
      "Iteration - 82 | Weight - [2.08786600e-04 5.05400728e-05 1.13261164e-04] | Prediction - [0 0 1 1]\n",
      "Iteration - 83 | Weight - [2.08786600e-04 5.06400728e-05 1.13161164e-04] | Prediction - [0 0 1 1]\n",
      "Iteration - 84 | Weight - [2.08786600e-04 5.07400728e-05 1.13061164e-04] | Prediction - [0 0 1 1]\n",
      "Iteration - 85 | Weight - [2.08786600e-04 5.08400728e-05 1.12961164e-04] | Prediction - [0 0 1 1]\n",
      "Iteration - 86 | Weight - [2.08786600e-04 5.09400728e-05 1.12861164e-04] | Prediction - [0 0 1 1]\n",
      "Iteration - 87 | Weight - [2.08786600e-04 5.10400728e-05 1.12761164e-04] | Prediction - [0 0 1 1]\n",
      "Iteration - 88 | Weight - [2.08786600e-04 5.11400728e-05 1.12661164e-04] | Prediction - [0 0 1 1]\n",
      "Iteration - 89 | Weight - [2.08786600e-04 5.12400728e-05 1.12561164e-04] | Prediction - [0 0 1 1]\n",
      "Iteration - 90 | Weight - [2.08786600e-04 5.13400728e-05 1.12461164e-04] | Prediction - [0 0 1 1]\n",
      "Iteration - 91 | Weight - [2.08786600e-04 5.14400728e-05 1.12361164e-04] | Prediction - [0 0 1 1]\n",
      "Iteration - 92 | Weight - [2.08786600e-04 5.15400728e-05 1.12261164e-04] | Prediction - [0 0 1 1]\n",
      "Iteration - 93 | Weight - [2.08786600e-04 5.16400728e-05 1.12161164e-04] | Prediction - [0 0 1 1]\n",
      "Iteration - 94 | Weight - [2.08786600e-04 5.17400728e-05 1.12061164e-04] | Prediction - [0 0 1 1]\n",
      "Iteration - 95 | Weight - [2.08786600e-04 5.18400728e-05 1.11961164e-04] | Prediction - [0 0 1 1]\n",
      "Iteration - 96 | Weight - [2.08786600e-04 5.19400728e-05 1.11861164e-04] | Prediction - [0 0 1 1]\n",
      "Iteration - 97 | Weight - [2.08786600e-04 5.20400728e-05 1.11761164e-04] | Prediction - [0 0 1 1]\n",
      "Iteration - 98 | Weight - [2.08786600e-04 5.21400728e-05 1.11661164e-04] | Prediction - [0 0 1 1]\n",
      "Iteration - 99 | Weight - [2.08786600e-04 5.22400728e-05 1.11561164e-04] | Prediction - [0 0 1 1]\n",
      "Iteration - 100 | Weight - [2.08786600e-04 5.23400728e-05 1.11461164e-04] | Prediction - [0 0 1 1]\n",
      "Iteration - 101 | Weight - [2.08786600e-04 5.24400728e-05 1.11361164e-04] | Prediction - [0 0 1 1]\n",
      "Iteration - 102 | Weight - [2.08786600e-04 5.25400728e-05 1.11261164e-04] | Prediction - [0 0 1 1]\n",
      "Iteration - 103 | Weight - [2.08786600e-04 5.26400728e-05 1.11161164e-04] | Prediction - [0 0 1 1]\n",
      "Iteration - 104 | Weight - [2.08786600e-04 5.27400728e-05 1.11061164e-04] | Prediction - [0 0 1 1]\n",
      "Iteration - 105 | Weight - [2.08786600e-04 5.28400728e-05 1.10961164e-04] | Prediction - [0 0 1 1]\n",
      "Iteration - 106 | Weight - [2.08786600e-04 5.29400728e-05 1.10861164e-04] | Prediction - [0 0 1 1]\n",
      "Iteration - 107 | Weight - [2.08786600e-04 5.30400728e-05 1.10761164e-04] | Prediction - [0 0 1 1]\n",
      "Iteration - 108 | Weight - [2.08786600e-04 5.31400728e-05 1.10661164e-04] | Prediction - [0 0 1 1]\n",
      "Iteration - 109 | Weight - [2.08786600e-04 5.32400728e-05 1.10561164e-04] | Prediction - [0 0 1 1]\n",
      "Iteration - 110 | Weight - [2.08786600e-04 5.33400728e-05 1.10461164e-04] | Prediction - [0 0 1 1]\n",
      "Iteration - 111 | Weight - [2.08786600e-04 5.34400728e-05 1.10361164e-04] | Prediction - [0 0 1 1]\n",
      "Iteration - 112 | Weight - [2.08786600e-04 5.35400728e-05 1.10261164e-04] | Prediction - [0 0 1 1]\n",
      "Iteration - 113 | Weight - [2.08786600e-04 5.36400728e-05 1.10161164e-04] | Prediction - [0 0 1 1]\n",
      "Iteration - 114 | Weight - [2.08786600e-04 5.37400728e-05 1.10061164e-04] | Prediction - [0 0 1 1]\n",
      "Iteration - 115 | Weight - [2.08786600e-04 5.38400728e-05 1.09961164e-04] | Prediction - [0 0 1 1]\n",
      "Iteration - 116 | Weight - [2.08786600e-04 5.39400728e-05 1.09861164e-04] | Prediction - [0 0 1 1]\n",
      "Iteration - 117 | Weight - [2.08786600e-04 5.40400728e-05 1.09761164e-04] | Prediction - [0 0 1 1]\n",
      "Iteration - 118 | Weight - [2.08786600e-04 5.41400728e-05 1.09661164e-04] | Prediction - [0 0 1 1]\n",
      "Iteration - 119 | Weight - [2.08786600e-04 5.42400728e-05 1.09561164e-04] | Prediction - [0 0 1 1]\n",
      "Iteration - 120 | Weight - [2.08786600e-04 5.43400728e-05 1.09461164e-04] | Prediction - [0 0 1 1]\n",
      "Iteration - 121 | Weight - [2.08786600e-04 5.44400728e-05 1.09361164e-04] | Prediction - [0 0 1 1]\n",
      "Iteration - 122 | Weight - [2.08786600e-04 5.45400728e-05 1.09261164e-04] | Prediction - [0 0 1 1]\n",
      "Iteration - 123 | Weight - [2.08786600e-04 5.46400728e-05 1.09161164e-04] | Prediction - [0 0 1 1]\n",
      "Iteration - 124 | Weight - [2.08786600e-04 5.47400728e-05 1.09061164e-04] | Prediction - [0 0 1 1]\n",
      "Iteration - 125 | Weight - [2.08786600e-04 5.48400728e-05 1.08961164e-04] | Prediction - [0 0 1 1]\n",
      "Iteration - 126 | Weight - [2.08786600e-04 5.49400728e-05 1.08861164e-04] | Prediction - [0 0 1 1]\n",
      "Iteration - 127 | Weight - [2.08786600e-04 5.50400728e-05 1.08761164e-04] | Prediction - [0 0 1 1]\n",
      "Iteration - 128 | Weight - [2.08786600e-04 5.51400728e-05 1.08661164e-04] | Prediction - [0 0 1 1]\n",
      "Iteration - 129 | Weight - [2.08786600e-04 5.52400728e-05 1.08561164e-04] | Prediction - [0 0 1 1]\n",
      "Iteration - 130 | Weight - [2.08786600e-04 5.53400728e-05 1.08461164e-04] | Prediction - [0 0 1 1]\n",
      "Iteration - 131 | Weight - [2.08786600e-04 5.54400728e-05 1.08361164e-04] | Prediction - [0 0 1 1]\n",
      "Iteration - 132 | Weight - [2.08786600e-04 5.55400728e-05 1.08261164e-04] | Prediction - [0 0 1 1]\n",
      "Iteration - 133 | Weight - [2.08786600e-04 5.56400728e-05 1.08161164e-04] | Prediction - [0 0 1 1]\n",
      "Iteration - 134 | Weight - [2.08786600e-04 5.57400728e-05 1.08061164e-04] | Prediction - [0 0 1 1]\n",
      "Iteration - 135 | Weight - [2.08786600e-04 5.58400728e-05 1.07961164e-04] | Prediction - [0 0 1 1]\n",
      "Iteration - 136 | Weight - [2.08786600e-04 5.59400728e-05 1.07861164e-04] | Prediction - [0 0 1 1]\n",
      "Iteration - 137 | Weight - [2.08786600e-04 5.60400728e-05 1.07761164e-04] | Prediction - [0 0 1 1]\n",
      "Iteration - 138 | Weight - [2.08786600e-04 5.61400728e-05 1.07661164e-04] | Prediction - [0 0 1 1]\n",
      "Iteration - 139 | Weight - [2.08786600e-04 5.62400728e-05 1.07561164e-04] | Prediction - [0 0 1 1]\n",
      "Iteration - 140 | Weight - [2.08786600e-04 5.63400728e-05 1.07461164e-04] | Prediction - [0 0 1 1]\n",
      "Iteration - 141 | Weight - [2.08786600e-04 5.64400728e-05 1.07361164e-04] | Prediction - [0 0 1 1]\n",
      "Iteration - 142 | Weight - [2.08786600e-04 5.65400728e-05 1.07261164e-04] | Prediction - [0 0 1 1]\n",
      "Iteration - 143 | Weight - [2.08786600e-04 5.66400728e-05 1.07161164e-04] | Prediction - [0 0 1 1]\n",
      "Iteration - 144 | Weight - [2.08786600e-04 5.67400728e-05 1.07061164e-04] | Prediction - [0 0 1 1]\n",
      "Iteration - 145 | Weight - [2.08786600e-04 5.68400728e-05 1.06961164e-04] | Prediction - [0 0 1 1]\n",
      "Iteration - 146 | Weight - [2.08786600e-04 5.69400728e-05 1.06861164e-04] | Prediction - [0 0 1 1]\n",
      "Iteration - 147 | Weight - [2.08786600e-04 5.70400728e-05 1.06761164e-04] | Prediction - [0 0 1 1]\n",
      "Iteration - 148 | Weight - [2.08786600e-04 5.71400728e-05 1.06661164e-04] | Prediction - [0 0 1 1]\n",
      "Iteration - 149 | Weight - [2.08786600e-04 5.72400728e-05 1.06561164e-04] | Prediction - [0 0 1 1]\n",
      "Iteration - 150 | Weight - [2.08786600e-04 5.73400728e-05 1.06461164e-04] | Prediction - [0 0 1 1]\n",
      "Iteration - 151 | Weight - [2.08786600e-04 5.74400728e-05 1.06361164e-04] | Prediction - [0 0 1 1]\n",
      "Iteration - 152 | Weight - [2.08786600e-04 5.75400728e-05 1.06261164e-04] | Prediction - [0 0 1 1]\n",
      "Iteration - 153 | Weight - [2.08786600e-04 5.76400728e-05 1.06161164e-04] | Prediction - [0 0 1 1]\n",
      "Iteration - 154 | Weight - [2.08786600e-04 5.77400728e-05 1.06061164e-04] | Prediction - [0 0 1 1]\n",
      "Iteration - 155 | Weight - [2.08786600e-04 5.78400728e-05 1.05961164e-04] | Prediction - [0 0 1 1]\n",
      "Iteration - 156 | Weight - [2.08786600e-04 5.79400728e-05 1.05861164e-04] | Prediction - [0 0 1 1]\n",
      "Iteration - 157 | Weight - [2.08786600e-04 5.80400728e-05 1.05761164e-04] | Prediction - [0 0 1 1]\n",
      "Iteration - 158 | Weight - [2.08786600e-04 5.81400728e-05 1.05661164e-04] | Prediction - [0 0 1 1]\n",
      "Iteration - 159 | Weight - [2.08786600e-04 5.82400728e-05 1.05561164e-04] | Prediction - [0 0 1 1]\n",
      "Iteration - 160 | Weight - [2.08786600e-04 5.83400728e-05 1.05461164e-04] | Prediction - [0 0 1 1]\n",
      "Iteration - 161 | Weight - [2.08786600e-04 5.84400728e-05 1.05361164e-04] | Prediction - [0 0 1 1]\n",
      "Iteration - 162 | Weight - [2.08786600e-04 5.85400728e-05 1.05261164e-04] | Prediction - [0 0 1 1]\n",
      "Iteration - 163 | Weight - [2.08786600e-04 5.86400728e-05 1.05161164e-04] | Prediction - [0 0 1 1]\n",
      "Iteration - 164 | Weight - [2.08786600e-04 5.87400728e-05 1.05061164e-04] | Prediction - [0 0 1 1]\n",
      "Iteration - 165 | Weight - [2.08786600e-04 5.88400728e-05 1.04961164e-04] | Prediction - [0 0 1 1]\n",
      "Iteration - 166 | Weight - [2.08786600e-04 5.89400728e-05 1.04861164e-04] | Prediction - [0 0 1 1]\n",
      "Iteration - 167 | Weight - [2.08786600e-04 5.90400728e-05 1.04761164e-04] | Prediction - [0 0 1 1]\n",
      "Iteration - 168 | Weight - [2.08786600e-04 5.91400728e-05 1.04661164e-04] | Prediction - [0 0 1 1]\n",
      "Iteration - 169 | Weight - [2.08786600e-04 5.92400728e-05 1.04561164e-04] | Prediction - [0 0 1 1]\n",
      "Iteration - 170 | Weight - [2.08786600e-04 5.93400728e-05 1.04461164e-04] | Prediction - [0 0 1 1]\n",
      "Iteration - 171 | Weight - [2.08786600e-04 5.94400728e-05 1.04361164e-04] | Prediction - [0 0 1 1]\n",
      "Iteration - 172 | Weight - [2.08786600e-04 5.95400728e-05 1.04261164e-04] | Prediction - [0 0 1 1]\n",
      "Iteration - 173 | Weight - [2.08786600e-04 5.96400728e-05 1.04161164e-04] | Prediction - [0 0 1 1]\n",
      "Iteration - 174 | Weight - [2.08786600e-04 5.97400728e-05 1.04061164e-04] | Prediction - [0 0 1 1]\n",
      "Iteration - 175 | Weight - [2.08786600e-04 5.98400728e-05 1.03961164e-04] | Prediction - [0 0 1 1]\n",
      "Iteration - 176 | Weight - [2.08786600e-04 5.99400728e-05 1.03861164e-04] | Prediction - [0 0 1 1]\n",
      "Iteration - 177 | Weight - [2.08786600e-04 6.00400728e-05 1.03761164e-04] | Prediction - [0 0 1 1]\n",
      "Iteration - 178 | Weight - [2.08786600e-04 6.01400728e-05 1.03661164e-04] | Prediction - [0 0 1 1]\n",
      "Iteration - 179 | Weight - [2.08786600e-04 6.02400728e-05 1.03561164e-04] | Prediction - [0 0 1 1]\n",
      "Iteration - 180 | Weight - [2.08786600e-04 6.03400728e-05 1.03461164e-04] | Prediction - [0 0 1 1]\n",
      "Iteration - 181 | Weight - [2.08786600e-04 6.04400728e-05 1.03361164e-04] | Prediction - [0 0 1 1]\n",
      "Iteration - 182 | Weight - [2.08786600e-04 6.05400728e-05 1.03261164e-04] | Prediction - [0 0 1 1]\n",
      "Iteration - 183 | Weight - [2.08786600e-04 6.06400728e-05 1.03161164e-04] | Prediction - [0 0 1 1]\n",
      "Iteration - 184 | Weight - [2.08786600e-04 6.07400728e-05 1.03061164e-04] | Prediction - [0 0 1 1]\n",
      "Iteration - 185 | Weight - [2.08786600e-04 6.08400728e-05 1.02961164e-04] | Prediction - [0 0 1 1]\n",
      "Iteration - 186 | Weight - [2.08786600e-04 6.09400728e-05 1.02861164e-04] | Prediction - [0 0 1 1]\n",
      "Iteration - 187 | Weight - [2.08786600e-04 6.10400728e-05 1.02761164e-04] | Prediction - [0 0 1 1]\n",
      "Iteration - 188 | Weight - [2.08786600e-04 6.11400728e-05 1.02661164e-04] | Prediction - [0 0 1 1]\n",
      "Iteration - 189 | Weight - [2.08786600e-04 6.12400728e-05 1.02561164e-04] | Prediction - [0 0 1 1]\n",
      "Iteration - 190 | Weight - [2.08786600e-04 6.13400728e-05 1.02461164e-04] | Prediction - [0 0 1 1]\n",
      "Iteration - 191 | Weight - [2.08786600e-04 6.14400728e-05 1.02361164e-04] | Prediction - [0 0 1 1]\n",
      "Iteration - 192 | Weight - [2.08786600e-04 6.15400728e-05 1.02261164e-04] | Prediction - [0 0 1 1]\n",
      "Iteration - 193 | Weight - [2.08786600e-04 6.16400728e-05 1.02161164e-04] | Prediction - [0 0 1 1]\n",
      "Iteration - 194 | Weight - [2.08786600e-04 6.17400728e-05 1.02061164e-04] | Prediction - [0 0 1 1]\n",
      "Iteration - 195 | Weight - [2.08786600e-04 6.18400728e-05 1.01961164e-04] | Prediction - [0 0 1 1]\n",
      "Iteration - 196 | Weight - [2.08786600e-04 6.19400728e-05 1.01861164e-04] | Prediction - [0 0 1 1]\n",
      "Iteration - 197 | Weight - [2.08786600e-04 6.20400728e-05 1.01761164e-04] | Prediction - [0 0 1 1]\n",
      "Iteration - 198 | Weight - [2.08786600e-04 6.21400728e-05 1.01661164e-04] | Prediction - [0 0 1 1]\n",
      "Iteration - 199 | Weight - [2.08786600e-04 6.22400728e-05 1.01561164e-04] | Prediction - [0 0 1 1]\n",
      "Iteration - 200 | Weight - [2.08786600e-04 6.23400728e-05 1.01461164e-04] | Prediction - [0 0 1 1]\n",
      "Iteration - 201 | Weight - [2.08786600e-04 6.24400728e-05 1.01361164e-04] | Prediction - [0 0 1 1]\n",
      "Iteration - 202 | Weight - [2.08786600e-04 6.25400728e-05 1.01261164e-04] | Prediction - [0 0 1 1]\n",
      "Iteration - 203 | Weight - [2.08786600e-04 6.26400728e-05 1.01161164e-04] | Prediction - [0 0 1 1]\n",
      "Iteration - 204 | Weight - [2.08786600e-04 6.27400728e-05 1.01061164e-04] | Prediction - [0 0 1 1]\n",
      "Iteration - 205 | Weight - [2.08786600e-04 6.28400728e-05 1.00961164e-04] | Prediction - [0 0 1 1]\n",
      "Iteration - 206 | Weight - [2.08786600e-04 6.29400728e-05 1.00861164e-04] | Prediction - [0 0 1 1]\n",
      "Iteration - 207 | Weight - [2.08786600e-04 6.30400728e-05 1.00761164e-04] | Prediction - [0 0 1 1]\n",
      "Iteration - 208 | Weight - [2.08786600e-04 6.31400728e-05 1.00661164e-04] | Prediction - [0 0 1 1]\n",
      "Iteration - 209 | Weight - [2.08786600e-04 6.32400728e-05 1.00561164e-04] | Prediction - [0 0 1 1]\n",
      "Iteration - 210 | Weight - [2.08786600e-04 6.33400728e-05 1.00461164e-04] | Prediction - [0 0 1 1]\n",
      "Iteration - 211 | Weight - [2.08786600e-04 6.34400728e-05 1.00361164e-04] | Prediction - [0 0 1 1]\n",
      "Iteration - 212 | Weight - [2.08786600e-04 6.35400728e-05 1.00261164e-04] | Prediction - [0 0 1 1]\n",
      "Iteration - 213 | Weight - [2.08786600e-04 6.36400728e-05 1.00161164e-04] | Prediction - [0 0 1 1]\n",
      "Iteration - 214 | Weight - [2.08786600e-04 6.37400728e-05 1.00061164e-04] | Prediction - [0 0 1 1]\n",
      "Iteration - 215 | Weight - [2.08786600e-04 6.38400728e-05 9.99611643e-05] | Prediction - [0 0 1 1]\n",
      "Iteration - 216 | Weight - [2.08786600e-04 6.39400728e-05 9.98611643e-05] | Prediction - [0 0 1 1]\n",
      "Iteration - 217 | Weight - [2.08786600e-04 6.40400728e-05 9.97611643e-05] | Prediction - [0 0 1 1]\n",
      "Iteration - 218 | Weight - [2.08786600e-04 6.41400728e-05 9.96611643e-05] | Prediction - [0 0 1 1]\n",
      "Iteration - 219 | Weight - [2.08786600e-04 6.42400728e-05 9.95611643e-05] | Prediction - [0 0 1 1]\n",
      "Iteration - 220 | Weight - [2.08786600e-04 6.43400728e-05 9.94611643e-05] | Prediction - [0 0 1 1]\n",
      "Iteration - 221 | Weight - [2.08786600e-04 6.44400728e-05 9.93611643e-05] | Prediction - [0 0 1 1]\n",
      "Iteration - 222 | Weight - [2.08786600e-04 6.45400728e-05 9.92611643e-05] | Prediction - [0 0 1 1]\n",
      "Iteration - 223 | Weight - [2.08786600e-04 6.46400728e-05 9.91611643e-05] | Prediction - [0 0 1 1]\n",
      "Iteration - 224 | Weight - [2.08786600e-04 6.47400728e-05 9.90611643e-05] | Prediction - [0 0 1 1]\n",
      "Iteration - 225 | Weight - [2.08786600e-04 6.48400728e-05 9.89611643e-05] | Prediction - [0 0 1 1]\n",
      "Iteration - 226 | Weight - [2.08786600e-04 6.49400728e-05 9.88611643e-05] | Prediction - [0 0 1 1]\n",
      "Iteration - 227 | Weight - [2.08786600e-04 6.50400728e-05 9.87611643e-05] | Prediction - [0 0 1 1]\n",
      "Iteration - 228 | Weight - [2.08786600e-04 6.51400728e-05 9.86611643e-05] | Prediction - [0 0 1 1]\n",
      "Iteration - 229 | Weight - [2.08786600e-04 6.52400728e-05 9.85611643e-05] | Prediction - [0 0 1 1]\n",
      "Iteration - 230 | Weight - [2.08786600e-04 6.53400728e-05 9.84611643e-05] | Prediction - [0 0 1 1]\n",
      "Iteration - 231 | Weight - [2.08786600e-04 6.54400728e-05 9.83611643e-05] | Prediction - [0 0 1 1]\n",
      "Iteration - 232 | Weight - [2.08786600e-04 6.55400728e-05 9.82611643e-05] | Prediction - [0 0 1 1]\n",
      "Iteration - 233 | Weight - [2.08786600e-04 6.56400728e-05 9.81611643e-05] | Prediction - [0 0 1 1]\n",
      "Iteration - 234 | Weight - [2.08786600e-04 6.57400728e-05 9.80611643e-05] | Prediction - [0 0 1 1]\n",
      "Iteration - 235 | Weight - [2.08786600e-04 6.58400728e-05 9.79611643e-05] | Prediction - [0 0 1 1]\n",
      "Iteration - 236 | Weight - [2.08786600e-04 6.59400728e-05 9.78611643e-05] | Prediction - [0 0 1 1]\n",
      "Iteration - 237 | Weight - [2.08786600e-04 6.60400728e-05 9.77611643e-05] | Prediction - [0 0 1 1]\n",
      "Iteration - 238 | Weight - [2.08786600e-04 6.61400728e-05 9.76611643e-05] | Prediction - [0 0 1 1]\n",
      "Iteration - 239 | Weight - [2.08786600e-04 6.62400728e-05 9.75611643e-05] | Prediction - [0 0 1 1]\n",
      "Iteration - 240 | Weight - [2.08786600e-04 6.63400728e-05 9.74611643e-05] | Prediction - [0 0 1 1]\n",
      "Iteration - 241 | Weight - [2.08786600e-04 6.64400728e-05 9.73611643e-05] | Prediction - [0 0 1 1]\n",
      "Iteration - 242 | Weight - [2.08786600e-04 6.65400728e-05 9.72611643e-05] | Prediction - [0 0 1 1]\n",
      "Iteration - 243 | Weight - [2.08786600e-04 6.66400728e-05 9.71611643e-05] | Prediction - [0 0 1 1]\n",
      "Iteration - 244 | Weight - [2.08786600e-04 6.67400728e-05 9.70611643e-05] | Prediction - [0 0 1 1]\n",
      "Iteration - 245 | Weight - [2.08786600e-04 6.68400728e-05 9.69611643e-05] | Prediction - [0 0 1 1]\n",
      "Iteration - 246 | Weight - [2.08786600e-04 6.69400728e-05 9.68611643e-05] | Prediction - [0 0 1 1]\n",
      "Iteration - 247 | Weight - [2.08786600e-04 6.70400728e-05 9.67611643e-05] | Prediction - [0 0 1 1]\n",
      "Iteration - 248 | Weight - [2.08786600e-04 6.71400728e-05 9.66611643e-05] | Prediction - [0 0 1 1]\n",
      "Iteration - 249 | Weight - [2.08786600e-04 6.72400728e-05 9.65611643e-05] | Prediction - [0 0 1 1]\n",
      "Iteration - 250 | Weight - [2.08786600e-04 6.73400728e-05 9.64611643e-05] | Prediction - [0 0 1 1]\n",
      "Iteration - 251 | Weight - [2.08786600e-04 6.74400728e-05 9.63611643e-05] | Prediction - [0 0 1 1]\n",
      "Iteration - 252 | Weight - [2.08786600e-04 6.75400728e-05 9.62611643e-05] | Prediction - [0 0 1 1]\n",
      "Iteration - 253 | Weight - [2.08786600e-04 6.76400728e-05 9.61611643e-05] | Prediction - [0 0 1 1]\n",
      "Iteration - 254 | Weight - [2.08786600e-04 6.77400728e-05 9.60611643e-05] | Prediction - [0 0 1 1]\n",
      "Iteration - 255 | Weight - [2.08786600e-04 6.78400728e-05 9.59611643e-05] | Prediction - [0 0 1 1]\n",
      "Iteration - 256 | Weight - [2.08786600e-04 6.79400728e-05 9.58611643e-05] | Prediction - [0 0 1 1]\n",
      "Iteration - 257 | Weight - [2.08786600e-04 6.80400728e-05 9.57611643e-05] | Prediction - [0 0 1 1]\n",
      "Iteration - 258 | Weight - [2.08786600e-04 6.81400728e-05 9.56611643e-05] | Prediction - [0 0 1 1]\n",
      "Iteration - 259 | Weight - [2.08786600e-04 6.82400728e-05 9.55611643e-05] | Prediction - [0 0 1 1]\n",
      "Iteration - 260 | Weight - [2.08786600e-04 6.83400728e-05 9.54611643e-05] | Prediction - [0 0 1 1]\n",
      "Iteration - 261 | Weight - [2.08786600e-04 6.84400728e-05 9.53611643e-05] | Prediction - [0 0 1 1]\n",
      "Iteration - 262 | Weight - [2.08786600e-04 6.85400728e-05 9.52611643e-05] | Prediction - [0 0 1 1]\n",
      "Iteration - 263 | Weight - [2.08786600e-04 6.86400728e-05 9.51611643e-05] | Prediction - [0 0 1 1]\n",
      "Iteration - 264 | Weight - [2.08786600e-04 6.87400728e-05 9.50611643e-05] | Prediction - [0 0 1 1]\n",
      "Iteration - 265 | Weight - [2.08786600e-04 6.88400728e-05 9.49611643e-05] | Prediction - [0 0 1 1]\n",
      "Iteration - 266 | Weight - [2.08786600e-04 6.89400728e-05 9.48611643e-05] | Prediction - [0 0 1 1]\n",
      "Iteration - 267 | Weight - [2.08786600e-04 6.90400728e-05 9.47611643e-05] | Prediction - [0 0 1 1]\n",
      "Iteration - 268 | Weight - [2.08786600e-04 6.91400728e-05 9.46611643e-05] | Prediction - [0 0 1 1]\n",
      "Iteration - 269 | Weight - [2.08786600e-04 6.92400728e-05 9.45611643e-05] | Prediction - [0 0 1 1]\n",
      "Iteration - 270 | Weight - [2.08786600e-04 6.93400728e-05 9.44611643e-05] | Prediction - [0 0 1 1]\n",
      "Iteration - 271 | Weight - [2.08786600e-04 6.94400728e-05 9.43611643e-05] | Prediction - [0 0 1 1]\n",
      "Iteration - 272 | Weight - [2.08786600e-04 6.95400728e-05 9.42611643e-05] | Prediction - [0 0 1 1]\n",
      "Iteration - 273 | Weight - [2.08786600e-04 6.96400728e-05 9.41611643e-05] | Prediction - [0 0 1 1]\n",
      "Iteration - 274 | Weight - [2.08786600e-04 6.97400728e-05 9.40611643e-05] | Prediction - [0 0 1 1]\n",
      "Iteration - 275 | Weight - [2.08786600e-04 6.98400728e-05 9.39611643e-05] | Prediction - [0 0 1 1]\n",
      "Iteration - 276 | Weight - [2.08786600e-04 6.99400728e-05 9.38611643e-05] | Prediction - [0 0 1 1]\n",
      "Iteration - 277 | Weight - [2.08786600e-04 7.00400728e-05 9.37611643e-05] | Prediction - [0 0 1 1]\n",
      "Iteration - 278 | Weight - [2.08786600e-04 7.01400728e-05 9.36611643e-05] | Prediction - [0 0 1 1]\n",
      "Iteration - 279 | Weight - [2.08786600e-04 7.02400728e-05 9.35611643e-05] | Prediction - [0 0 1 1]\n",
      "Iteration - 280 | Weight - [2.08786600e-04 7.03400728e-05 9.34611643e-05] | Prediction - [0 0 1 1]\n",
      "Iteration - 281 | Weight - [2.08786600e-04 7.04400728e-05 9.33611643e-05] | Prediction - [0 0 1 1]\n",
      "Iteration - 282 | Weight - [2.08786600e-04 7.05400728e-05 9.32611643e-05] | Prediction - [0 0 1 1]\n",
      "Iteration - 283 | Weight - [2.08786600e-04 7.06400728e-05 9.31611643e-05] | Prediction - [0 0 1 1]\n",
      "Iteration - 284 | Weight - [2.08786600e-04 7.07400728e-05 9.30611643e-05] | Prediction - [0 0 1 1]\n",
      "Iteration - 285 | Weight - [2.08786600e-04 7.08400728e-05 9.29611643e-05] | Prediction - [0 0 1 1]\n",
      "Iteration - 286 | Weight - [2.08786600e-04 7.09400728e-05 9.28611643e-05] | Prediction - [0 0 1 1]\n",
      "Iteration - 287 | Weight - [2.08786600e-04 7.10400728e-05 9.27611643e-05] | Prediction - [0 0 1 1]\n",
      "Iteration - 288 | Weight - [2.08786600e-04 7.11400728e-05 9.26611643e-05] | Prediction - [0 0 1 1]\n",
      "Iteration - 289 | Weight - [2.08786600e-04 7.12400728e-05 9.25611643e-05] | Prediction - [0 0 1 1]\n",
      "Iteration - 290 | Weight - [2.08786600e-04 7.13400728e-05 9.24611643e-05] | Prediction - [0 0 1 1]\n",
      "Iteration - 291 | Weight - [2.08786600e-04 7.14400728e-05 9.23611643e-05] | Prediction - [0 0 1 1]\n",
      "Iteration - 292 | Weight - [2.08786600e-04 7.15400728e-05 9.22611643e-05] | Prediction - [0 0 1 1]\n",
      "Iteration - 293 | Weight - [2.08786600e-04 7.16400728e-05 9.21611643e-05] | Prediction - [0 0 1 1]\n",
      "Iteration - 294 | Weight - [2.08786600e-04 7.17400728e-05 9.20611643e-05] | Prediction - [0 0 1 1]\n",
      "Iteration - 295 | Weight - [2.08786600e-04 7.18400728e-05 9.19611643e-05] | Prediction - [0 0 1 1]\n",
      "Iteration - 296 | Weight - [2.08786600e-04 7.19400728e-05 9.18611643e-05] | Prediction - [0 0 1 1]\n",
      "Iteration - 297 | Weight - [2.08786600e-04 7.20400728e-05 9.17611643e-05] | Prediction - [0 0 1 1]\n",
      "Iteration - 298 | Weight - [2.08786600e-04 7.21400728e-05 9.16611643e-05] | Prediction - [0 0 1 1]\n",
      "Iteration - 299 | Weight - [2.08786600e-04 7.22400728e-05 9.15611643e-05] | Prediction - [0 0 1 1]\n",
      "Iteration - 300 | Weight - [2.08786600e-04 7.23400728e-05 9.14611643e-05] | Prediction - [0 0 1 1]\n",
      "Iteration - 301 | Weight - [2.08786600e-04 7.24400728e-05 9.13611643e-05] | Prediction - [0 0 1 1]\n",
      "Iteration - 302 | Weight - [2.08786600e-04 7.25400728e-05 9.12611643e-05] | Prediction - [0 0 1 1]\n",
      "Iteration - 303 | Weight - [2.08786600e-04 7.26400728e-05 9.11611643e-05] | Prediction - [0 0 1 1]\n",
      "Iteration - 304 | Weight - [2.08786600e-04 7.27400728e-05 9.10611643e-05] | Prediction - [0 0 1 1]\n",
      "Iteration - 305 | Weight - [2.08786600e-04 7.28400728e-05 9.09611643e-05] | Prediction - [0 0 1 1]\n",
      "Iteration - 306 | Weight - [2.08786600e-04 7.29400728e-05 9.08611643e-05] | Prediction - [0 0 1 1]\n",
      "Iteration - 307 | Weight - [2.08786600e-04 7.30400728e-05 9.07611643e-05] | Prediction - [0 0 1 1]\n",
      "Iteration - 308 | Weight - [2.08786600e-04 7.31400728e-05 9.06611643e-05] | Prediction - [0 0 1 1]\n",
      "Iteration - 309 | Weight - [2.08786600e-04 7.32400728e-05 9.05611643e-05] | Prediction - [0 0 1 1]\n",
      "Iteration - 310 | Weight - [2.08786600e-04 7.33400728e-05 9.04611643e-05] | Prediction - [0 0 1 1]\n",
      "Iteration - 311 | Weight - [2.08786600e-04 7.34400728e-05 9.03611643e-05] | Prediction - [0 0 1 1]\n",
      "Iteration - 312 | Weight - [2.08786600e-04 7.35400728e-05 9.02611643e-05] | Prediction - [0 0 1 1]\n",
      "Iteration - 313 | Weight - [2.08786600e-04 7.36400728e-05 9.01611643e-05] | Prediction - [0 0 1 1]\n",
      "Iteration - 314 | Weight - [2.08786600e-04 7.37400728e-05 9.00611643e-05] | Prediction - [0 0 1 1]\n",
      "Iteration - 315 | Weight - [2.08786600e-04 7.38400728e-05 8.99611643e-05] | Prediction - [0 0 1 1]\n",
      "Iteration - 316 | Weight - [2.08786600e-04 7.39400728e-05 8.98611643e-05] | Prediction - [0 0 1 1]\n",
      "Iteration - 317 | Weight - [2.08786600e-04 7.40400728e-05 8.97611643e-05] | Prediction - [0 0 1 1]\n",
      "Iteration - 318 | Weight - [2.08786600e-04 7.41400728e-05 8.96611643e-05] | Prediction - [0 0 1 1]\n",
      "Iteration - 319 | Weight - [2.08786600e-04 7.42400728e-05 8.95611643e-05] | Prediction - [0 0 1 1]\n",
      "Iteration - 320 | Weight - [2.08786600e-04 7.43400728e-05 8.94611643e-05] | Prediction - [0 0 1 1]\n",
      "Iteration - 321 | Weight - [2.08786600e-04 7.44400728e-05 8.93611643e-05] | Prediction - [0 0 1 1]\n",
      "Iteration - 322 | Weight - [2.08786600e-04 7.45400728e-05 8.92611643e-05] | Prediction - [0 0 1 1]\n",
      "Iteration - 323 | Weight - [2.08786600e-04 7.46400728e-05 8.91611643e-05] | Prediction - [0 0 1 1]\n",
      "Iteration - 324 | Weight - [2.08786600e-04 7.47400728e-05 8.90611643e-05] | Prediction - [0 0 1 1]\n",
      "Iteration - 325 | Weight - [2.08786600e-04 7.48400728e-05 8.89611643e-05] | Prediction - [0 0 1 1]\n",
      "Iteration - 326 | Weight - [2.08786600e-04 7.49400728e-05 8.88611643e-05] | Prediction - [0 0 1 1]\n",
      "Iteration - 327 | Weight - [2.08786600e-04 7.50400728e-05 8.87611643e-05] | Prediction - [0 0 1 1]\n",
      "Iteration - 328 | Weight - [2.08786600e-04 7.51400728e-05 8.86611643e-05] | Prediction - [0 0 1 1]\n",
      "Iteration - 329 | Weight - [2.08786600e-04 7.52400728e-05 8.85611643e-05] | Prediction - [0 0 1 1]\n",
      "Iteration - 330 | Weight - [2.08786600e-04 7.53400728e-05 8.84611643e-05] | Prediction - [0 0 1 1]\n",
      "Iteration - 331 | Weight - [2.08786600e-04 7.54400728e-05 8.83611643e-05] | Prediction - [0 0 1 1]\n",
      "Iteration - 332 | Weight - [2.08786600e-04 7.55400728e-05 8.82611643e-05] | Prediction - [0 0 1 1]\n",
      "Iteration - 333 | Weight - [2.08786600e-04 7.56400728e-05 8.81611643e-05] | Prediction - [0 0 1 1]\n",
      "Iteration - 334 | Weight - [2.08786600e-04 7.57400728e-05 8.80611643e-05] | Prediction - [0 0 1 1]\n",
      "Iteration - 335 | Weight - [2.08786600e-04 7.58400728e-05 8.79611643e-05] | Prediction - [0 0 1 1]\n",
      "Iteration - 336 | Weight - [2.08786600e-04 7.59400728e-05 8.78611643e-05] | Prediction - [0 0 1 1]\n",
      "Iteration - 337 | Weight - [2.08786600e-04 7.60400728e-05 8.77611643e-05] | Prediction - [0 0 1 1]\n",
      "Iteration - 338 | Weight - [2.08786600e-04 7.61400728e-05 8.76611643e-05] | Prediction - [0 0 1 1]\n",
      "Iteration - 339 | Weight - [2.08786600e-04 7.62400728e-05 8.75611643e-05] | Prediction - [0 0 1 1]\n",
      "Iteration - 340 | Weight - [2.08786600e-04 7.63400728e-05 8.74611643e-05] | Prediction - [0 0 1 1]\n",
      "Iteration - 341 | Weight - [2.08786600e-04 7.64400728e-05 8.73611643e-05] | Prediction - [0 0 1 1]\n",
      "Iteration - 342 | Weight - [2.08786600e-04 7.65400728e-05 8.72611643e-05] | Prediction - [0 0 1 1]\n",
      "Iteration - 343 | Weight - [2.08786600e-04 7.66400728e-05 8.71611643e-05] | Prediction - [0 0 1 1]\n",
      "Iteration - 344 | Weight - [2.08786600e-04 7.67400728e-05 8.70611643e-05] | Prediction - [0 0 1 1]\n",
      "Iteration - 345 | Weight - [2.08786600e-04 7.68400728e-05 8.69611643e-05] | Prediction - [0 0 1 1]\n",
      "Iteration - 346 | Weight - [2.08786600e-04 7.69400728e-05 8.68611643e-05] | Prediction - [0 0 1 1]\n",
      "Iteration - 347 | Weight - [2.08786600e-04 7.70400728e-05 8.67611643e-05] | Prediction - [0 0 1 1]\n",
      "Iteration - 348 | Weight - [2.08786600e-04 7.71400728e-05 8.66611643e-05] | Prediction - [0 0 1 1]\n",
      "Iteration - 349 | Weight - [2.08786600e-04 7.72400728e-05 8.65611643e-05] | Prediction - [0 0 1 1]\n",
      "Iteration - 350 | Weight - [2.08786600e-04 7.73400728e-05 8.64611643e-05] | Prediction - [0 0 1 1]\n",
      "Iteration - 351 | Weight - [2.08786600e-04 7.74400728e-05 8.63611643e-05] | Prediction - [0 0 1 1]\n",
      "Iteration - 352 | Weight - [2.08786600e-04 7.75400728e-05 8.62611643e-05] | Prediction - [0 0 1 1]\n",
      "Iteration - 353 | Weight - [2.08786600e-04 7.76400728e-05 8.61611643e-05] | Prediction - [0 0 1 1]\n",
      "Iteration - 354 | Weight - [2.08786600e-04 7.77400728e-05 8.60611643e-05] | Prediction - [0 0 1 1]\n",
      "Iteration - 355 | Weight - [2.08786600e-04 7.78400728e-05 8.59611643e-05] | Prediction - [0 0 1 1]\n",
      "Iteration - 356 | Weight - [2.08786600e-04 7.79400728e-05 8.58611643e-05] | Prediction - [0 0 1 1]\n",
      "Iteration - 357 | Weight - [2.08786600e-04 7.80400728e-05 8.57611643e-05] | Prediction - [0 0 1 1]\n",
      "Iteration - 358 | Weight - [2.08786600e-04 7.81400728e-05 8.56611643e-05] | Prediction - [0 0 1 1]\n",
      "Iteration - 359 | Weight - [2.08786600e-04 7.82400728e-05 8.55611643e-05] | Prediction - [0 0 1 1]\n",
      "Iteration - 360 | Weight - [2.08786600e-04 7.83400728e-05 8.54611643e-05] | Prediction - [0 0 1 1]\n",
      "Iteration - 361 | Weight - [2.08786600e-04 7.84400728e-05 8.53611643e-05] | Prediction - [0 0 1 1]\n",
      "Iteration - 362 | Weight - [2.08786600e-04 7.85400728e-05 8.52611643e-05] | Prediction - [0 0 1 1]\n",
      "Iteration - 363 | Weight - [2.08786600e-04 7.86400728e-05 8.51611643e-05] | Prediction - [0 0 1 1]\n",
      "Iteration - 364 | Weight - [2.08786600e-04 7.87400728e-05 8.50611643e-05] | Prediction - [0 0 1 1]\n",
      "Iteration - 365 | Weight - [2.08786600e-04 7.88400728e-05 8.49611643e-05] | Prediction - [0 0 1 1]\n",
      "Iteration - 366 | Weight - [2.08786600e-04 7.89400728e-05 8.48611643e-05] | Prediction - [0 0 1 1]\n",
      "Iteration - 367 | Weight - [2.08786600e-04 7.90400728e-05 8.47611643e-05] | Prediction - [0 0 1 1]\n",
      "Iteration - 368 | Weight - [2.08786600e-04 7.91400728e-05 8.46611643e-05] | Prediction - [0 0 1 1]\n",
      "Iteration - 369 | Weight - [2.08786600e-04 7.92400728e-05 8.45611643e-05] | Prediction - [0 0 1 1]\n",
      "Iteration - 370 | Weight - [2.08786600e-04 7.93400728e-05 8.44611643e-05] | Prediction - [0 0 1 1]\n",
      "Iteration - 371 | Weight - [2.08786600e-04 7.94400728e-05 8.43611643e-05] | Prediction - [0 0 1 1]\n",
      "Iteration - 372 | Weight - [2.08786600e-04 7.95400728e-05 8.42611643e-05] | Prediction - [0 0 1 1]\n",
      "Iteration - 373 | Weight - [2.08786600e-04 7.96400728e-05 8.41611643e-05] | Prediction - [0 0 1 1]\n",
      "Iteration - 374 | Weight - [2.08786600e-04 7.97400728e-05 8.40611643e-05] | Prediction - [0 0 1 1]\n",
      "Iteration - 375 | Weight - [2.08786600e-04 7.98400728e-05 8.39611643e-05] | Prediction - [0 0 1 1]\n",
      "Iteration - 376 | Weight - [2.08786600e-04 7.99400728e-05 8.38611643e-05] | Prediction - [0 0 1 1]\n",
      "Iteration - 377 | Weight - [2.08786600e-04 8.00400728e-05 8.37611643e-05] | Prediction - [0 0 1 1]\n",
      "Iteration - 378 | Weight - [2.08786600e-04 8.01400728e-05 8.36611643e-05] | Prediction - [0 0 1 1]\n",
      "Iteration - 379 | Weight - [2.08786600e-04 8.02400728e-05 8.35611643e-05] | Prediction - [0 0 1 1]\n",
      "Iteration - 380 | Weight - [2.08786600e-04 8.03400728e-05 8.34611643e-05] | Prediction - [0 0 1 1]\n",
      "Iteration - 381 | Weight - [2.08786600e-04 8.04400728e-05 8.33611643e-05] | Prediction - [0 0 1 1]\n",
      "Iteration - 382 | Weight - [2.08786600e-04 8.05400728e-05 8.32611643e-05] | Prediction - [0 0 1 1]\n",
      "Iteration - 383 | Weight - [2.08786600e-04 8.06400728e-05 8.31611643e-05] | Prediction - [0 0 1 1]\n",
      "Iteration - 384 | Weight - [2.08786600e-04 8.07400728e-05 8.30611643e-05] | Prediction - [0 0 1 1]\n",
      "Iteration - 385 | Weight - [2.08786600e-04 8.08400728e-05 8.29611643e-05] | Prediction - [0 0 1 1]\n",
      "Iteration - 386 | Weight - [2.08786600e-04 8.09400728e-05 8.28611643e-05] | Prediction - [0 0 1 1]\n",
      "Iteration - 387 | Weight - [2.08786600e-04 8.10400728e-05 8.27611643e-05] | Prediction - [0 0 1 1]\n",
      "Iteration - 388 | Weight - [2.08786600e-04 8.11400728e-05 8.26611643e-05] | Prediction - [0 0 1 1]\n",
      "Iteration - 389 | Weight - [2.08786600e-04 8.12400728e-05 8.25611643e-05] | Prediction - [0 0 1 1]\n",
      "Iteration - 390 | Weight - [2.08786600e-04 8.13400728e-05 8.24611643e-05] | Prediction - [0 0 1 1]\n",
      "Iteration - 391 | Weight - [2.08786600e-04 8.14400728e-05 8.23611643e-05] | Prediction - [0 0 1 1]\n",
      "Iteration - 392 | Weight - [2.08786600e-04 8.15400728e-05 8.22611643e-05] | Prediction - [0 0 1 1]\n",
      "Iteration - 393 | Weight - [2.08786600e-04 8.16400728e-05 8.21611643e-05] | Prediction - [0 0 1 1]\n",
      "Iteration - 394 | Weight - [2.08786600e-04 8.17400728e-05 8.20611643e-05] | Prediction - [0 0 1 1]\n",
      "Iteration - 395 | Weight - [2.08786600e-04 8.18400728e-05 8.19611643e-05] | Prediction - [0 0 1 1]\n",
      "Iteration - 396 | Weight - [2.08786600e-04 8.19400728e-05 8.18611643e-05] | Prediction - [0 0 1 1]\n",
      "Iteration - 397 | Weight - [2.08786600e-04 8.19400728e-05 8.18611643e-05] | Prediction - [0 1 1 1]\n",
      "Time elapsed :  0.5972364000008383  seconds\n"
     ]
    }
   ],
   "source": [
    "eta = 0.0000001\n",
    "n_iterations=500\n",
    "\n",
    "weight= neural_network_performance(inputs, target, weight, eta, n_iterations)"
   ]
  },
  {
   "cell_type": "markdown",
   "metadata": {},
   "source": [
    "# Summary"
   ]
  },
  {
   "cell_type": "markdown",
   "metadata": {},
   "source": [
    "Thus we have created a simple neural network with weight update using core python. Also, we have seen how the learning rate has impacted the convergence of prediction and target observations. Too big a learning rate or too low a learning rate, both would affect the performance of the neural network. Typical learning rates are in the 0.1–0.4 range."
   ]
  },
  {
   "cell_type": "markdown",
   "metadata": {},
   "source": [
    "Lets try the same with AND function. The AND function returns 1 if both are true, or zero otherwise."
   ]
  },
  {
   "cell_type": "code",
   "execution_count": 158,
   "metadata": {},
   "outputs": [
    {
     "data": {
      "text/html": [
       "<div>\n",
       "<style scoped>\n",
       "    .dataframe tbody tr th:only-of-type {\n",
       "        vertical-align: middle;\n",
       "    }\n",
       "\n",
       "    .dataframe tbody tr th {\n",
       "        vertical-align: top;\n",
       "    }\n",
       "\n",
       "    .dataframe thead th {\n",
       "        text-align: right;\n",
       "    }\n",
       "</style>\n",
       "<table border=\"1\" class=\"dataframe\">\n",
       "  <thead>\n",
       "    <tr style=\"text-align: right;\">\n",
       "      <th></th>\n",
       "      <th>x1</th>\n",
       "      <th>x2</th>\n",
       "      <th>y</th>\n",
       "    </tr>\n",
       "  </thead>\n",
       "  <tbody>\n",
       "    <tr>\n",
       "      <th>0</th>\n",
       "      <td>0</td>\n",
       "      <td>0</td>\n",
       "      <td>0</td>\n",
       "    </tr>\n",
       "    <tr>\n",
       "      <th>1</th>\n",
       "      <td>0</td>\n",
       "      <td>1</td>\n",
       "      <td>0</td>\n",
       "    </tr>\n",
       "    <tr>\n",
       "      <th>2</th>\n",
       "      <td>1</td>\n",
       "      <td>0</td>\n",
       "      <td>0</td>\n",
       "    </tr>\n",
       "    <tr>\n",
       "      <th>3</th>\n",
       "      <td>1</td>\n",
       "      <td>1</td>\n",
       "      <td>1</td>\n",
       "    </tr>\n",
       "  </tbody>\n",
       "</table>\n",
       "</div>"
      ],
      "text/plain": [
       "   x1  x2  y\n",
       "0   0   0  0\n",
       "1   0   1  0\n",
       "2   1   0  0\n",
       "3   1   1  1"
      ]
     },
     "execution_count": 158,
     "metadata": {},
     "output_type": "execute_result"
    }
   ],
   "source": [
    "AND = pd.DataFrame({'x1': (0,0,1,1), 'x2': (0,1,0,1), 'y': (0,0,0,1)})\n",
    "AND"
   ]
  },
  {
   "cell_type": "code",
   "execution_count": 163,
   "metadata": {},
   "outputs": [],
   "source": [
    "inputs_AND = AND.iloc[:,:2]\n",
    "target_AND = AND.iloc[:,2]"
   ]
  },
  {
   "cell_type": "code",
   "execution_count": 263,
   "metadata": {},
   "outputs": [
    {
     "data": {
      "text/plain": [
       "array([ 1.22959331e-05, -6.87192128e-06, -9.73816903e-05])"
      ]
     },
     "execution_count": 263,
     "metadata": {},
     "output_type": "execute_result"
    }
   ],
   "source": [
    "weight = np.random.randn(3)*1e-4\n",
    "weight"
   ]
  },
  {
   "cell_type": "code",
   "execution_count": 264,
   "metadata": {},
   "outputs": [
    {
     "name": "stdout",
     "output_type": "stream",
     "text": [
      "Iteration - 0 | Weight - [-0.2499877  -0.25000687  0.74990262] | Prediction - [1 1 1 1]\n",
      "Iteration - 1 | Weight - [ 1.22959331e-05 -6.87192128e-06  4.99902618e-01] | Prediction - [0 0 0 0]\n",
      "Iteration - 2 | Weight - [0.2500123  0.24999313 0.24990262] | Prediction - [0 0 0 0]\n",
      "Iteration - 3 | Weight - [ 1.22959331e-05 -6.87192128e-06  7.49902618e-01] | Prediction - [0 1 1 1]\n",
      "Iteration - 4 | Weight - [0.2500123  0.24999313 0.49990262] | Prediction - [0 0 0 0]\n",
      "Iteration - 5 | Weight - [0.2500123  0.24999313 0.49990262] | Prediction - [0 0 0 1]\n",
      "Time elapsed :  0.010056600000098115  seconds\n"
     ]
    }
   ],
   "source": [
    "eta = 0.25\n",
    "n_iterations=20\n",
    "\n",
    "weight= neural_network_performance(inputs_AND, target_AND, weight, eta, n_iterations)"
   ]
  }
 ],
 "metadata": {
  "kernelspec": {
   "display_name": "Python 3",
   "language": "python",
   "name": "python3"
  },
  "language_info": {
   "codemirror_mode": {
    "name": "ipython",
    "version": 3
   },
   "file_extension": ".py",
   "mimetype": "text/x-python",
   "name": "python",
   "nbconvert_exporter": "python",
   "pygments_lexer": "ipython3",
   "version": "3.7.6"
  }
 },
 "nbformat": 4,
 "nbformat_minor": 4
}
